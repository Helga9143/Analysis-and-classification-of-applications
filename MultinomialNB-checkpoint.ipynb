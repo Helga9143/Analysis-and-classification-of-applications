{
 "cells": [
  {
   "cell_type": "code",
   "execution_count": 11,
   "id": "9bd04ab8",
   "metadata": {},
   "outputs": [
    {
     "name": "stdout",
     "output_type": "stream",
     "text": [
      "Index(['application', 'category ', 'cleaned_application'], dtype='object')\n",
      "                                         application category   \\\n",
      "0                        Хочу взять отгул 5 и 6 мая.    Отпуск   \n",
      "1      Прошу согласовать мой отпуск с 15 по 30 июня.    Отпуск   \n",
      "2      Необходимо подтвердить мой отпуск на 12 июля.    Отпуск   \n",
      "3            Хочу взять отпуск по уходу за ребенком.    Отпуск   \n",
      "4  Пожалуйста, помогите оформить расширенный отпуск.    Отпуск   \n",
      "\n",
      "                               cleaned_application  \n",
      "0                       хочу взять отгул 5 и 6 мая  \n",
      "1     прошу согласовать мой отпуск с 15 по 30 июня  \n",
      "2     необходимо подтвердить мой отпуск на 12 июля  \n",
      "3           хочу взять отпуск по уходу за ребенком  \n",
      "4  пожалуйста помогите оформить расширенный отпуск  \n"
     ]
    }
   ],
   "source": [
    "import pandas as pd\n",
    "import re\n",
    "\n",
    "df = pd.read_csv('applications.csv', delimiter=';')\n",
    "\n",
    "# Функция для очистки текста\n",
    "def clean_text(text):\n",
    "    text = text.lower()\n",
    "    text = re.sub(r'[^a-zа-яё0-9\\s]', '', text)\n",
    "    return text\n",
    "\n",
    "df['cleaned_application'] = df['application'].apply(clean_text)\n",
    "\n",
    "# Проверка имен столбцов\n",
    "print(df.columns)"
   ]
  },
  {
   "cell_type": "code",
   "execution_count": 12,
   "id": "d5337e32",
   "metadata": {},
   "outputs": [
    {
     "data": {
      "image/png": "[encoded data removed]",
      "text/plain": [
       "<Figure size 640x480 with 1 Axes>"
      ]
     },
     "metadata": {},
     "output_type": "display_data"
    }
   ],
   "source": [
    "import matplotlib.pyplot as plt\n",
    "import seaborn as sns\n",
    "\n",
    "df.columns = df.columns.str.strip()\n",
    "\n",
    "# построение графика\n",
    "sns.countplot(x='category', data=df)\n",
    "plt.show()"
   ]
  },
  {
   "cell_type": "code",
   "execution_count": 13,
   "id": "bbb22767",
   "metadata": {},
   "outputs": [
    {
     "name": "stdout",
     "output_type": "stream",
     "text": [
      "                                     precision    recall  f1-score   support\n",
      "\n",
      "     Больничные/Медицинские справки       0.75      0.60      0.67         5\n",
      "                   Кадровые вопросы       0.00      0.00      0.00         3\n",
      "                             Отпуск       1.00      0.80      0.89         5\n",
      "                             Прочее       0.20      0.33      0.25         3\n",
      "Технические проблемы / IT-поддержка       0.67      0.80      0.73         5\n",
      "                 Финансовые вопросы       0.25      0.33      0.29         3\n",
      "\n",
      "                           accuracy                           0.54        24\n",
      "                          macro avg       0.48      0.48      0.47        24\n",
      "                       weighted avg       0.56      0.54      0.54        24\n",
      "\n",
      "[[3 0 0 0 1 1]\n",
      " [1 0 0 1 0 1]\n",
      " [0 0 4 1 0 0]\n",
      " [0 0 0 1 1 1]\n",
      " [0 0 0 1 4 0]\n",
      " [0 1 0 1 0 1]]\n"
     ]
    },
    {
     "data": {
      "text/plain": [
       "['C:\\\\Users\\\\123\\\\Desktop\\\\1440\\\\work\\\\vectorizer.pkl']"
      ]
     },
     "execution_count": 13,
     "metadata": {},
     "output_type": "execute_result"
    }
   ],
   "source": [
    "from sklearn.feature_extraction.text import TfidfVectorizer\n",
    "from sklearn.naive_bayes import MultinomialNB\n",
    "from sklearn.model_selection import train_test_split\n",
    "from sklearn.metrics import classification_report, confusion_matrix\n",
    "\n",
    "# Векторизация данных\n",
    "vectorizer = TfidfVectorizer()\n",
    "X = vectorizer.fit_transform(df['cleaned_application'])\n",
    "y = df['category']\n",
    "\n",
    "# Разделение на обучающую и тестовую выборки\n",
    "X_train, X_test, y_train, y_test = train_test_split(X, y, test_size=0.2, random_state=42)\n",
    "\n",
    "# Обучение модели\n",
    "model = MultinomialNB()\n",
    "model.fit(X_train, y_train)\n",
    "\n",
    "# Оценка модели\n",
    "y_pred = model.predict(X_test)\n",
    "print(classification_report(y_test, y_pred))\n",
    "print(confusion_matrix(y_test, y_pred))\n",
    "\n",
    "# Сохранение модели и векторизатора\n",
    "joblib.dump(model, 'C:\\\\Users\\\\123\\\\Desktop\\\\1440\\\\work\\\\model.pkl')\n",
    "joblib.dump(vectorizer, 'C:\\\\Users\\\\123\\\\Desktop\\\\1440\\\\work\\\\vectorizer.pkl')"
   ]
  },
  {
   "cell_type": "code",
   "execution_count": 14,
   "id": "f8bd9492",
   "metadata": {},
   "outputs": [],
   "source": [
    "import joblib\n",
    "\n",
    "model = joblib.load('C:\\\\Users\\\\123\\\\Desktop\\\\1440\\\\work\\\\model.pkl')\n",
    "vectorizer = joblib.load('vectorizer.pkl')\n",
    "\n",
    "def predict(application):\n",
    "    cleaned_app = clean_text(application)\n",
    "    vector = vectorizer.transform([cleaned_app])\n",
    "    category = model.predict(vector)\n",
    "    return category[0]\n"
   ]
  },
  {
   "cell_type": "code",
   "execution_count": 15,
   "id": "77df7961",
   "metadata": {},
   "outputs": [
    {
     "name": "stdout",
     "output_type": "stream",
     "text": [
      "Финансовые вопросы\n",
      "Финансовые вопросы\n",
      "Отпуск\n",
      "Технические проблемы / IT-поддержка\n",
      "Больничные/Медицинские справки\n",
      "Больничные/Медицинские справки\n"
     ]
    }
   ],
   "source": [
    "  # Пример использования\n",
    "print(predict(\"условия получения премии\"))\n",
    "print(predict(\"Как подать заявку на повышение\"))\n",
    "print(predict(\"Я хочу взять отпуск на 10 дней\"))\n",
    "print(predict(\"Проблема с доступом к корпоративной почте\"))\n",
    "print(predict(\"Мне нужна справка о доходах\"))\n",
    "print(predict(\"больничный лист можно продлить или нужно открывать новый\"))"
   ]
  },
  {
   "cell_type": "code",
   "execution_count": null,
   "id": "d0b9fb38",
   "metadata": {},
   "outputs": [],
   "source": []
  }
 ],
 "metadata": {
  "kernelspec": {
   "display_name": "Python 3 (ipykernel)",
   "language": "python",
   "name": "python3"
  },
  "language_info": {
   "codemirror_mode": {
    "name": "ipython",
    "version": 3
   },
   "file_extension": ".py",
   "mimetype": "text/x-python",
   "name": "python",
   "nbconvert_exporter": "python",
   "pygments_lexer": "ipython3",
   "version": "3.11.5"
  }
 },
 "nbformat": 4,
 "nbformat_minor": 5
}
